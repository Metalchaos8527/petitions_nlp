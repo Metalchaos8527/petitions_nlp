{
 "cells": [
  {
   "cell_type": "markdown",
   "metadata": {},
   "source": [
    "## 1. 청원 데이터 전처리\n",
    "- 청원 데이터 원자료를 정규표현식으로 전처리하고 최종 토큰화 시도까지 한 내용을 담았습니다\n",
    "- 본 노트에서는 Okt를 이용하여 토크나징을 시도하였지만 토큰화 시간이 23분이 걸려서 최종으로는 Mecab 토크나이저를 사용하게 되었습니다"
   ]
  },
  {
   "cell_type": "code",
   "execution_count": null,
   "metadata": {},
   "outputs": [],
   "source": [
    "# 전처리3에서 한 내용 모두 수행\n",
    "\n",
    "from petitions_dataset import Petitions\n",
    "\n",
    "petitions = Petitions(\"C:/Users/myunghoon_k/OneDrive - 서울시립대학교/bitamin/NLP_summer/nlp_bitamin/petitions_data\")\n",
    "\n",
    "petitions.set_keys('begin', 'category', 'title', 'content','num_agree')\n",
    "\n",
    "result = []\n",
    "for begin, category, title, content, num_agree in petitions:\n",
    "    temp = []\n",
    "    temp.append(begin)\n",
    "    temp.append(category)\n",
    "    temp.append(title)\n",
    "    temp.append(content)\n",
    "    temp.append(num_agree)\n",
    "    result.append(temp)"
   ]
  },
  {
   "cell_type": "code",
   "execution_count": 2,
   "metadata": {},
   "outputs": [],
   "source": [
    "import pandas as pd\n",
    "\n",
    "df_first = pd.DataFrame(result, columns = ['begin', 'category', 'title', 'content',\n",
    "        'num_agree'])"
   ]
  },
  {
   "cell_type": "code",
   "execution_count": 3,
   "metadata": {},
   "outputs": [],
   "source": [
    "test = df_first.num_agree.apply(lambda x: 1 if x >=200000 else 0)\n",
    "df_first['new_status'] = test"
   ]
  },
  {
   "cell_type": "code",
   "execution_count": 4,
   "metadata": {},
   "outputs": [],
   "source": [
    "import re\n",
    "\n",
    "raw_title = list(df_first['title'])\n",
    "\n",
    "result = []\n",
    "error_index = []\n",
    "i = 0\n",
    "\n",
    "for text in raw_title:\n",
    "    i +=1\n",
    "    try:\n",
    "        text_sp = text.split()\n",
    "        text_join = ''.join(text_sp)\n",
    "        text_sub = re.sub(r'[,$()*+.?[\\^{|]+', '', text_join)\n",
    "        result += [text_sub]\n",
    "    except AttributeError as error:\n",
    "        error_index.append(i)"
   ]
  },
  {
   "cell_type": "code",
   "execution_count": 5,
   "metadata": {},
   "outputs": [],
   "source": [
    "test = pd.DataFrame(result, columns = ['mod_title'])\n",
    "mt_isin = test['mod_title'].duplicated()\n",
    "fal_ind = test[mt_isin].index #중복된 데이터들이 존재하는 인덱스 추출"
   ]
  },
  {
   "cell_type": "code",
   "execution_count": 6,
   "metadata": {},
   "outputs": [
    {
     "data": {
      "text/html": [
       "<div>\n",
       "<style scoped>\n",
       "    .dataframe tbody tr th:only-of-type {\n",
       "        vertical-align: middle;\n",
       "    }\n",
       "\n",
       "    .dataframe tbody tr th {\n",
       "        vertical-align: top;\n",
       "    }\n",
       "\n",
       "    .dataframe thead th {\n",
       "        text-align: right;\n",
       "    }\n",
       "</style>\n",
       "<table border=\"1\" class=\"dataframe\">\n",
       "  <thead>\n",
       "    <tr style=\"text-align: right;\">\n",
       "      <th></th>\n",
       "      <th>begin</th>\n",
       "      <th>category</th>\n",
       "      <th>title</th>\n",
       "      <th>mod_title</th>\n",
       "      <th>content</th>\n",
       "      <th>num_agree</th>\n",
       "      <th>new_status</th>\n",
       "    </tr>\n",
       "  </thead>\n",
       "  <tbody>\n",
       "    <tr>\n",
       "      <th>0</th>\n",
       "      <td>2017-08-25</td>\n",
       "      <td>육아/교육</td>\n",
       "      <td>학교는 인력센터, 취업센터가 아닙니다. 정말 간곡히 부탁드립니다.</td>\n",
       "      <td>학교는인력센터취업센터가아닙니다정말간곡히부탁드립니다</td>\n",
       "      <td>안녕하세요. 현재 사대, 교대 등 교원양성학교들의 예비교사들이 임용절벽에 매우 힘들...</td>\n",
       "      <td>88</td>\n",
       "      <td>0</td>\n",
       "    </tr>\n",
       "    <tr>\n",
       "      <th>1</th>\n",
       "      <td>2017-08-25</td>\n",
       "      <td>안전/환경</td>\n",
       "      <td>아파트 물탱크 청소용 NEP인증세제 사용 강제 요청건의서</td>\n",
       "      <td>아파트물탱크청소용NEP인증세제사용강제요청건의서</td>\n",
       "      <td>서울시에서는 ’10년부터 정수지와 배수지 청소용 화학제품인 “세정제”에 대하여 첨부...</td>\n",
       "      <td>2</td>\n",
       "      <td>0</td>\n",
       "    </tr>\n",
       "    <tr>\n",
       "      <th>2</th>\n",
       "      <td>2017-08-25</td>\n",
       "      <td>기타</td>\n",
       "      <td>DDT농가에 대한 배려</td>\n",
       "      <td>DDT농가에대한배려</td>\n",
       "      <td>얼마 전 살충제 계란 파동 등으로 씨끄러웠던 중 친환경업체(한살림 등)의 DDT파동...</td>\n",
       "      <td>1</td>\n",
       "      <td>0</td>\n",
       "    </tr>\n",
       "    <tr>\n",
       "      <th>3</th>\n",
       "      <td>2017-08-25</td>\n",
       "      <td>반려동물</td>\n",
       "      <td>길고양이를 도와주세요</td>\n",
       "      <td>길고양이를도와주세요</td>\n",
       "      <td>길고양이들 밥주고있는 사람입니다. 최근에 동네주민과 트러블이 생겨 싸움이 일어났습니...</td>\n",
       "      <td>5</td>\n",
       "      <td>0</td>\n",
       "    </tr>\n",
       "    <tr>\n",
       "      <th>4</th>\n",
       "      <td>2017-08-25</td>\n",
       "      <td>인권/성평등</td>\n",
       "      <td>몰래카메라 유출 방송통신심의위원회 심의 배정</td>\n",
       "      <td>몰래카메라유출방송통신심의위원회심의배정</td>\n",
       "      <td>안녕하세요 지인분이 성관계 몰래카메라가 유출되어 방송통신 심의 위원회에 접수해서 처...</td>\n",
       "      <td>1</td>\n",
       "      <td>0</td>\n",
       "    </tr>\n",
       "  </tbody>\n",
       "</table>\n",
       "</div>"
      ],
      "text/plain": [
       "        begin category                                 title  \\\n",
       "0  2017-08-25    육아/교육  학교는 인력센터, 취업센터가 아닙니다. 정말 간곡히 부탁드립니다.   \n",
       "1  2017-08-25    안전/환경       아파트 물탱크 청소용 NEP인증세제 사용 강제 요청건의서   \n",
       "2  2017-08-25       기타                          DDT농가에 대한 배려   \n",
       "3  2017-08-25     반려동물                           길고양이를 도와주세요   \n",
       "4  2017-08-25   인권/성평등              몰래카메라 유출 방송통신심의위원회 심의 배정   \n",
       "\n",
       "                     mod_title  \\\n",
       "0  학교는인력센터취업센터가아닙니다정말간곡히부탁드립니다   \n",
       "1    아파트물탱크청소용NEP인증세제사용강제요청건의서   \n",
       "2                   DDT농가에대한배려   \n",
       "3                   길고양이를도와주세요   \n",
       "4         몰래카메라유출방송통신심의위원회심의배정   \n",
       "\n",
       "                                             content  num_agree  new_status  \n",
       "0  안녕하세요. 현재 사대, 교대 등 교원양성학교들의 예비교사들이 임용절벽에 매우 힘들...         88           0  \n",
       "1  서울시에서는 ’10년부터 정수지와 배수지 청소용 화학제품인 “세정제”에 대하여 첨부...          2           0  \n",
       "2  얼마 전 살충제 계란 파동 등으로 씨끄러웠던 중 친환경업체(한살림 등)의 DDT파동...          1           0  \n",
       "3  길고양이들 밥주고있는 사람입니다. 최근에 동네주민과 트러블이 생겨 싸움이 일어났습니...          5           0  \n",
       "4  안녕하세요 지인분이 성관계 몰래카메라가 유출되어 방송통신 심의 위원회에 접수해서 처...          1           0  "
      ]
     },
     "execution_count": 6,
     "metadata": {},
     "output_type": "execute_result"
    }
   ],
   "source": [
    "df2 = df_first.copy()\n",
    "df2 = pd.concat([df2, test], axis = 1)\n",
    "cols = ['begin', 'category', 'title', 'mod_title', 'content', 'num_agree', 'new_status']\n",
    "df2 = df2[cols]\n",
    "df2.head()"
   ]
  },
  {
   "cell_type": "code",
   "execution_count": 7,
   "metadata": {},
   "outputs": [
    {
     "data": {
      "text/plain": [
       "(314401, 7)"
      ]
     },
     "execution_count": 7,
     "metadata": {},
     "output_type": "execute_result"
    }
   ],
   "source": [
    "df2.drop_duplicates(subset = ['mod_title'], inplace = True)\n",
    "df2.shape #중복 제목 제거 완료"
   ]
  },
  {
   "cell_type": "code",
   "execution_count": 9,
   "metadata": {},
   "outputs": [
    {
     "data": {
      "image/png": "[encoded data removed]",
      "text/plain": [
       "<Figure size 432x288 with 1 Axes>"
      ]
     },
     "metadata": {
      "needs_background": "light"
     },
     "output_type": "display_data"
    }
   ],
   "source": [
    "#기타카테고리 다시 시각화\n",
    "from matplotlib import font_manager, rc\n",
    "import matplotlib.pyplot as plt\n",
    "import seaborn as sns\n",
    "%matplotlib inline\n",
    "\n",
    "font_path = 'C:/Windows/Fonts/NanumGothic.ttf'\n",
    "font_name = font_manager.FontProperties(fname = font_path).get_name()\n",
    "plt.rcParams[\"font.family\"] = font_name\n",
    "\n",
    "category_ratio = (df2['category']\n",
    "                             .value_counts(normalize = True)\n",
    "                             .rename('percentage')\n",
    "                             .mul(100)\n",
    "                            .reset_index()\n",
    "                            .sort_values('percentage', ascending = False))\n",
    "p = sns.barplot(x=\"index\", y=\"percentage\", data=category_ratio)\n",
    "plt.setp(p.get_xticklabels(), rotation=90)\n",
    "plt.show()\n",
    "    #정치개혁 분야가 2%p가까이 비율 하락\n",
    "    #기타는 여전히 12%에 해당\n",
    "    #시간에 따른 카테고리별 변화 시각화도 필요\n",
    "    #시간에 따른 콘텐츠 구성 단어들의 변화 (워드 클라우드?)"
   ]
  },
  {
   "cell_type": "code",
   "execution_count": 11,
   "metadata": {},
   "outputs": [],
   "source": [
    "#텍스트 내용 전처리\n",
    "\n",
    "#불용어를 어떻게 투입할 것인지?\n",
    "#특수문자 제거를 어떻게 할 것인지?\n",
    "#url제거를 어떻게 할 것인지?\n",
    "#target을 어떻게 정수형으로 변환할 것인지?\n",
    "\n",
    "#우리에게는 총 17개의 카테고리가 있음\n",
    "#명사기반 토큰화를 해야할것 (청원의 목적이 명사에 담겨 있다는 가정, 믿음)\n",
    "\n",
    "#우리의 모델, count기반 모델 (DTM)\n",
    "#tf-idf생성\n",
    "#tf-idf생성 이후 어떻게 차원 축소?"
   ]
  },
  {
   "cell_type": "code",
   "execution_count": 8,
   "metadata": {},
   "outputs": [],
   "source": [
    "#불용어 불러오기\n",
    "stopwords_kr = pd.read_csv(\"C:/Users/myunghoon_k/OneDrive - 서울시립대학교/bitamin/NLP_summer/nlp_bitamin/stopwords_kr.txt\",\n",
    "                          sep = '\\n', header = None)\n",
    "stop_kr_list = list(stopwords_kr.iloc[:,0])\n",
    "    #리스트 형태로 변환함"
   ]
  },
  {
   "cell_type": "code",
   "execution_count": 24,
   "metadata": {},
   "outputs": [],
   "source": [
    "#타겟 정수형태로 \n",
    "#0,1,.....16 형태로 정수 인코딩을 실시할 것인지? => sklearn에서 제공한다고 함\n",
    "#0,1형태의 원핫인코딩으로 할 것인지? => 주로 딥러닝 모델의 target으로 사용된다고 함\n",
    "#https://datascience.stackexchange.com/questions/71842/what-should-i-do-if-my-target-variable-is-categorical-when-using-decision-tree\n",
    "\n",
    "#딱히 정수인코딩을 시행하지 않은 상태로 도전해보고 해볼것"
   ]
  },
  {
   "cell_type": "code",
   "execution_count": 9,
   "metadata": {},
   "outputs": [
    {
     "data": {
      "text/html": [
       "<div>\n",
       "<style scoped>\n",
       "    .dataframe tbody tr th:only-of-type {\n",
       "        vertical-align: middle;\n",
       "    }\n",
       "\n",
       "    .dataframe tbody tr th {\n",
       "        vertical-align: top;\n",
       "    }\n",
       "\n",
       "    .dataframe thead th {\n",
       "        text-align: right;\n",
       "    }\n",
       "</style>\n",
       "<table border=\"1\" class=\"dataframe\">\n",
       "  <thead>\n",
       "    <tr style=\"text-align: right;\">\n",
       "      <th></th>\n",
       "      <th>begin</th>\n",
       "      <th>category</th>\n",
       "      <th>title</th>\n",
       "      <th>mod_title</th>\n",
       "      <th>content</th>\n",
       "      <th>num_agree</th>\n",
       "      <th>new_status</th>\n",
       "    </tr>\n",
       "  </thead>\n",
       "  <tbody>\n",
       "    <tr>\n",
       "      <th>14799</th>\n",
       "      <td>2017-11-01</td>\n",
       "      <td>외교/통일/국방</td>\n",
       "      <td>병역의무 폐지를 청원합니다</td>\n",
       "      <td>병역의무폐지를청원합니다</td>\n",
       "      <td>모병제가 언급 될때마다 인터넷상에서 남성들이 반대하는데 모병에 의해 군대 갈수 있는...</td>\n",
       "      <td>10</td>\n",
       "      <td>0</td>\n",
       "    </tr>\n",
       "    <tr>\n",
       "      <th>14800</th>\n",
       "      <td>2017-11-01</td>\n",
       "      <td>외교/통일/국방</td>\n",
       "      <td>중국에 대한 외교 정책을 재고려해주십시오.</td>\n",
       "      <td>중국에대한외교정책을재고려해주십시오</td>\n",
       "      <td>0) 서론 과거 삼국 시대부터 중국이란 국가는 대한민국에게 온갖 극악무도한 만행을 ...</td>\n",
       "      <td>0</td>\n",
       "      <td>0</td>\n",
       "    </tr>\n",
       "    <tr>\n",
       "      <th>14840</th>\n",
       "      <td>2017-11-01</td>\n",
       "      <td>외교/통일/국방</td>\n",
       "      <td>여자 병사들은 가산점도 주고 특별수당 포함 월급 140줄거라고 하시는데</td>\n",
       "      <td>여자병사들은가산점도주고특별수당포함월급140줄거라고하시는데</td>\n",
       "      <td>저희 남자들 사실상 끌려오는거니까 특별수당이랑 가산점 주십시오!!!!남녀 평등한 세...</td>\n",
       "      <td>2</td>\n",
       "      <td>0</td>\n",
       "    </tr>\n",
       "    <tr>\n",
       "      <th>14853</th>\n",
       "      <td>2017-11-01</td>\n",
       "      <td>외교/통일/국방</td>\n",
       "      <td>여병제도 폐지 및 전환</td>\n",
       "      <td>여병제도폐지및전환</td>\n",
       "      <td>월급 140에 여군병사를 모집?? 그럼 남자는 3~40만원 받는데 이게 정부식 남녀...</td>\n",
       "      <td>961</td>\n",
       "      <td>0</td>\n",
       "    </tr>\n",
       "    <tr>\n",
       "      <th>14861</th>\n",
       "      <td>2017-11-01</td>\n",
       "      <td>외교/통일/국방</td>\n",
       "      <td>독립투사 박차정의 묘, 정식 관리 건</td>\n",
       "      <td>독립투사박차정의묘정식관리건</td>\n",
       "      <td>일제에 맞서 전쟁중에 순국하신 항일 투사 박차정의 묘를 정식으로 관리 요청 합니다....</td>\n",
       "      <td>1</td>\n",
       "      <td>0</td>\n",
       "    </tr>\n",
       "    <tr>\n",
       "      <th>14867</th>\n",
       "      <td>2017-11-01</td>\n",
       "      <td>외교/통일/국방</td>\n",
       "      <td>여군병사 상근예비역 대체(월급 140?) 반대</td>\n",
       "      <td>여군병사상근예비역대체월급140반대</td>\n",
       "      <td>남자 사병 월급은 딸랑 10만원 올려주는것도 가산점 다 빼고 3~4년 걸쳐서 겨우겨...</td>\n",
       "      <td>29</td>\n",
       "      <td>0</td>\n",
       "    </tr>\n",
       "    <tr>\n",
       "      <th>14870</th>\n",
       "      <td>2017-11-01</td>\n",
       "      <td>외교/통일/국방</td>\n",
       "      <td>asd</td>\n",
       "      <td>asd</td>\n",
       "      <td>asd</td>\n",
       "      <td>0</td>\n",
       "      <td>0</td>\n",
       "    </tr>\n",
       "    <tr>\n",
       "      <th>14872</th>\n",
       "      <td>2017-11-01</td>\n",
       "      <td>외교/통일/국방</td>\n",
       "      <td>여군병사제</td>\n",
       "      <td>여군병사제</td>\n",
       "      <td>군대가는 남자는 호구인가요?? 남자 병사는 의무라 쥐꼬리만한 월급주고 개처럼 부리고...</td>\n",
       "      <td>6</td>\n",
       "      <td>0</td>\n",
       "    </tr>\n",
       "    <tr>\n",
       "      <th>14876</th>\n",
       "      <td>2017-11-01</td>\n",
       "      <td>외교/통일/국방</td>\n",
       "      <td>군모병제</td>\n",
       "      <td>군모병제</td>\n",
       "      <td>여성병사모집제를 다시 진행한다고 들었는데 조건을 보니 어이가 없네요. 월급은 남성병...</td>\n",
       "      <td>2</td>\n",
       "      <td>0</td>\n",
       "    </tr>\n",
       "    <tr>\n",
       "      <th>14881</th>\n",
       "      <td>2017-11-01</td>\n",
       "      <td>외교/통일/국방</td>\n",
       "      <td>여성병사 징병 제도 반대합니다.</td>\n",
       "      <td>여성병사징병제도반대합니다</td>\n",
       "      <td>현재 우리나라는 국방의 의무는 남녀 모두에게, 병역의 의무는 오직 \"남성\"에게만 적...</td>\n",
       "      <td>86</td>\n",
       "      <td>0</td>\n",
       "    </tr>\n",
       "    <tr>\n",
       "      <th>14885</th>\n",
       "      <td>2017-11-01</td>\n",
       "      <td>외교/통일/국방</td>\n",
       "      <td>저는 남자로 태어나 너무나 억울합니다.</td>\n",
       "      <td>저는남자로태어나너무나억울합니다</td>\n",
       "      <td>몇 분 전, 저는 한 뉴스 기사를 봤습니다. 그 내용은 바로 43년만에 여군 병사를...</td>\n",
       "      <td>14</td>\n",
       "      <td>0</td>\n",
       "    </tr>\n",
       "    <tr>\n",
       "      <th>14902</th>\n",
       "      <td>2017-11-01</td>\n",
       "      <td>외교/통일/국방</td>\n",
       "      <td>'독도의 날'을 국가지정 기념일로 재정해 주십시요.</td>\n",
       "      <td>'독도의날'을국가지정기념일로재정해주십시요</td>\n",
       "      <td>안녕하세요, 저는 부산 대동중학교에 다니고 있는 한 평범하고 정치에 관심이있는 2학...</td>\n",
       "      <td>10</td>\n",
       "      <td>0</td>\n",
       "    </tr>\n",
       "    <tr>\n",
       "      <th>14905</th>\n",
       "      <td>2017-11-01</td>\n",
       "      <td>외교/통일/국방</td>\n",
       "      <td>예비군들이 최저시급을 받을 수 있게 해주십시오.</td>\n",
       "      <td>예비군들이최저시급을받을수있게해주십시오</td>\n",
       "      <td>현재 예비군 동원훈련에 소집된 사람에 대하여 지급되는 금액은 너무 적은 금액입니다....</td>\n",
       "      <td>1138</td>\n",
       "      <td>0</td>\n",
       "    </tr>\n",
       "    <tr>\n",
       "      <th>14913</th>\n",
       "      <td>2017-11-01</td>\n",
       "      <td>외교/통일/국방</td>\n",
       "      <td>군 사병 처우 개선과 군 관련 범죄에 대한 엄벌을 촉구합니다!!</td>\n",
       "      <td>군사병처우개선과군관련범죄에대한엄벌을촉구합니다!!</td>\n",
       "      <td>우리나라 사병들 참 불쌍합니다... 가장 꽃다운 20대에 군대에 끌려와 열정페이만도...</td>\n",
       "      <td>3</td>\n",
       "      <td>0</td>\n",
       "    </tr>\n",
       "    <tr>\n",
       "      <th>14915</th>\n",
       "      <td>2017-11-01</td>\n",
       "      <td>외교/통일/국방</td>\n",
       "      <td>남성 징병제 폐지를 요구합니다</td>\n",
       "      <td>남성징병제폐지를요구합니다</td>\n",
       "      <td>병역의무에 의해 현재 징병으로 군대에 오는 남성들도 모병으로 전환 될수 있는 방안이...</td>\n",
       "      <td>7</td>\n",
       "      <td>0</td>\n",
       "    </tr>\n",
       "    <tr>\n",
       "      <th>14916</th>\n",
       "      <td>2017-11-01</td>\n",
       "      <td>외교/통일/국방</td>\n",
       "      <td>복학 시즌 조기전역</td>\n",
       "      <td>복학시즌조기전역</td>\n",
       "      <td>현재 군복무는 개월수로 고정돼 있고 (육 21, 해 23, 공 24) 타이밍 잘못 ...</td>\n",
       "      <td>0</td>\n",
       "      <td>0</td>\n",
       "    </tr>\n",
       "    <tr>\n",
       "      <th>14927</th>\n",
       "      <td>2017-11-01</td>\n",
       "      <td>외교/통일/국방</td>\n",
       "      <td>군복무간 영창으로 인해 군복무기간이 연장되지 않았으면 합니다.</td>\n",
       "      <td>군복무간영창으로인해군복무기간이연장되지않았으면합니다</td>\n",
       "      <td>군생활 간 영창을 다녀오면 그만큼 군생활이 추가되는데 전역 후 취업할 때 군복무 관...</td>\n",
       "      <td>3</td>\n",
       "      <td>0</td>\n",
       "    </tr>\n",
       "    <tr>\n",
       "      <th>14933</th>\n",
       "      <td>2017-11-01</td>\n",
       "      <td>외교/통일/국방</td>\n",
       "      <td>여군 모병제</td>\n",
       "      <td>여군모병제</td>\n",
       "      <td>방금 기사를 읽고왔는데 남자는 강제징집+월급20+군가산점X+목줄채운 노예 여자는 월...</td>\n",
       "      <td>2</td>\n",
       "      <td>0</td>\n",
       "    </tr>\n",
       "    <tr>\n",
       "      <th>14936</th>\n",
       "      <td>2017-11-01</td>\n",
       "      <td>외교/통일/국방</td>\n",
       "      <td>징병 병사 제도 폐지 및 모병 전환</td>\n",
       "      <td>징병병사제도폐지및모병전환</td>\n",
       "      <td>징병에 의해 군에 갈 병사가 부족하면 현재 유지하고 있는 징병 폐지하고 모병으로 전...</td>\n",
       "      <td>8</td>\n",
       "      <td>0</td>\n",
       "    </tr>\n",
       "    <tr>\n",
       "      <th>14939</th>\n",
       "      <td>2017-11-01</td>\n",
       "      <td>외교/통일/국방</td>\n",
       "      <td>'병 포상 휴가 제한 (휴가평등제)'는 철회되어야 합니다.</td>\n",
       "      <td>'병포상휴가제한휴가평등제'는철회되어야합니다</td>\n",
       "      <td>안녕하십니까. 저는 얼마 전 21개월 간의 군생활을 마치고 전역한 육군 예비역 병장...</td>\n",
       "      <td>11</td>\n",
       "      <td>0</td>\n",
       "    </tr>\n",
       "    <tr>\n",
       "      <th>14947</th>\n",
       "      <td>2017-11-01</td>\n",
       "      <td>외교/통일/국방</td>\n",
       "      <td>'독도의 날'을 국가지정 기념일로 제정해 주시기 바랍니다.</td>\n",
       "      <td>'독도의날'을국가지정기념일로제정해주시기바랍니다</td>\n",
       "      <td>항상 대한민국을 위해 애써 주시는 분들께 감사드립니다. 저희는 부산에 살고 있는 중...</td>\n",
       "      <td>25</td>\n",
       "      <td>0</td>\n",
       "    </tr>\n",
       "    <tr>\n",
       "      <th>14951</th>\n",
       "      <td>2017-11-01</td>\n",
       "      <td>외교/통일/국방</td>\n",
       "      <td>흥진호 진실규명</td>\n",
       "      <td>흥진호진실규명</td>\n",
       "      <td>흥진호가 소리없이 월북했다가 돌아왔는데 어떻게 믿습니까? 국가안보가 엉망 아닙니까?...</td>\n",
       "      <td>2</td>\n",
       "      <td>0</td>\n",
       "    </tr>\n",
       "    <tr>\n",
       "      <th>14954</th>\n",
       "      <td>2017-11-01</td>\n",
       "      <td>외교/통일/국방</td>\n",
       "      <td>반미 친중 국가 노선 급선회 해명요구</td>\n",
       "      <td>반미친중국가노선급선회해명요구</td>\n",
       "      <td>반미 친중 노선선회를 국민의 동의도 없이 변경할 수 있습니까? 거기에 대한 해명을 ...</td>\n",
       "      <td>3</td>\n",
       "      <td>0</td>\n",
       "    </tr>\n",
       "    <tr>\n",
       "      <th>14965</th>\n",
       "      <td>2017-11-01</td>\n",
       "      <td>외교/통일/국방</td>\n",
       "      <td>이헌수 전 국정원 기조실장및 구속된 간부들은 한국형 MK울트라사업및 민간인 불법사찰...</td>\n",
       "      <td>이헌수전국정원기조실장및구속된간부들은한국형MK울트라사업및민간인불법사찰에대해답해야합니다</td>\n",
       "      <td>미국의 MK울트라 프로젝트는 실제로 있었던 일이며 https://namu.wiki/...</td>\n",
       "      <td>12</td>\n",
       "      <td>0</td>\n",
       "    </tr>\n",
       "    <tr>\n",
       "      <th>14968</th>\n",
       "      <td>2017-11-01</td>\n",
       "      <td>외교/통일/국방</td>\n",
       "      <td>자랑스러운 저의 선배님을 비롯한 6분을 순직자가 아닌 전사자로 바꿀 수 있게 도와주세요.</td>\n",
       "      <td>자랑스러운저의선배님을비롯한6분을순직자가아닌전사자로바꿀수있게도와주세요</td>\n",
       "      <td>안녕하세요. 저는 현재 경안고등학교에 재학 중인 1학년 학생입니다. 제가 재학 중인...</td>\n",
       "      <td>3</td>\n",
       "      <td>0</td>\n",
       "    </tr>\n",
       "    <tr>\n",
       "      <th>14976</th>\n",
       "      <td>2017-11-01</td>\n",
       "      <td>외교/통일/국방</td>\n",
       "      <td>청진호진실꼭 밝혀주세요</td>\n",
       "      <td>청진호진실꼭밝혀주세요</td>\n",
       "      <td>청진호 진실규명을 꼭밝혀주십시요</td>\n",
       "      <td>0</td>\n",
       "      <td>0</td>\n",
       "    </tr>\n",
       "  </tbody>\n",
       "</table>\n",
       "</div>"
      ],
      "text/plain": [
       "            begin  category  \\\n",
       "14799  2017-11-01  외교/통일/국방   \n",
       "14800  2017-11-01  외교/통일/국방   \n",
       "14840  2017-11-01  외교/통일/국방   \n",
       "14853  2017-11-01  외교/통일/국방   \n",
       "14861  2017-11-01  외교/통일/국방   \n",
       "14867  2017-11-01  외교/통일/국방   \n",
       "14870  2017-11-01  외교/통일/국방   \n",
       "14872  2017-11-01  외교/통일/국방   \n",
       "14876  2017-11-01  외교/통일/국방   \n",
       "14881  2017-11-01  외교/통일/국방   \n",
       "14885  2017-11-01  외교/통일/국방   \n",
       "14902  2017-11-01  외교/통일/국방   \n",
       "14905  2017-11-01  외교/통일/국방   \n",
       "14913  2017-11-01  외교/통일/국방   \n",
       "14915  2017-11-01  외교/통일/국방   \n",
       "14916  2017-11-01  외교/통일/국방   \n",
       "14927  2017-11-01  외교/통일/국방   \n",
       "14933  2017-11-01  외교/통일/국방   \n",
       "14936  2017-11-01  외교/통일/국방   \n",
       "14939  2017-11-01  외교/통일/국방   \n",
       "14947  2017-11-01  외교/통일/국방   \n",
       "14951  2017-11-01  외교/통일/국방   \n",
       "14954  2017-11-01  외교/통일/국방   \n",
       "14965  2017-11-01  외교/통일/국방   \n",
       "14968  2017-11-01  외교/통일/국방   \n",
       "14976  2017-11-01  외교/통일/국방   \n",
       "\n",
       "                                                   title  \\\n",
       "14799                                     병역의무 폐지를 청원합니다   \n",
       "14800                            중국에 대한 외교 정책을 재고려해주십시오.   \n",
       "14840            여자 병사들은 가산점도 주고 특별수당 포함 월급 140줄거라고 하시는데   \n",
       "14853                                       여병제도 폐지 및 전환   \n",
       "14861                               독립투사 박차정의 묘, 정식 관리 건   \n",
       "14867                          여군병사 상근예비역 대체(월급 140?) 반대   \n",
       "14870                                                asd   \n",
       "14872                                              여군병사제   \n",
       "14876                                               군모병제   \n",
       "14881                                  여성병사 징병 제도 반대합니다.   \n",
       "14885                              저는 남자로 태어나 너무나 억울합니다.   \n",
       "14902                       '독도의 날'을 국가지정 기념일로 재정해 주십시요.   \n",
       "14905                         예비군들이 최저시급을 받을 수 있게 해주십시오.   \n",
       "14913                군 사병 처우 개선과 군 관련 범죄에 대한 엄벌을 촉구합니다!!   \n",
       "14915                                   남성 징병제 폐지를 요구합니다   \n",
       "14916                                         복학 시즌 조기전역   \n",
       "14927                 군복무간 영창으로 인해 군복무기간이 연장되지 않았으면 합니다.   \n",
       "14933                                             여군 모병제   \n",
       "14936                                징병 병사 제도 폐지 및 모병 전환   \n",
       "14939                   '병 포상 휴가 제한 (휴가평등제)'는 철회되어야 합니다.   \n",
       "14947                   '독도의 날'을 국가지정 기념일로 제정해 주시기 바랍니다.   \n",
       "14951                                           흥진호 진실규명   \n",
       "14954                               반미 친중 국가 노선 급선회 해명요구   \n",
       "14965  이헌수 전 국정원 기조실장및 구속된 간부들은 한국형 MK울트라사업및 민간인 불법사찰...   \n",
       "14968  자랑스러운 저의 선배님을 비롯한 6분을 순직자가 아닌 전사자로 바꿀 수 있게 도와주세요.   \n",
       "14976                                       청진호진실꼭 밝혀주세요   \n",
       "\n",
       "                                            mod_title  \\\n",
       "14799                                    병역의무폐지를청원합니다   \n",
       "14800                              중국에대한외교정책을재고려해주십시오   \n",
       "14840                 여자병사들은가산점도주고특별수당포함월급140줄거라고하시는데   \n",
       "14853                                       여병제도폐지및전환   \n",
       "14861                                  독립투사박차정의묘정식관리건   \n",
       "14867                              여군병사상근예비역대체월급140반대   \n",
       "14870                                             asd   \n",
       "14872                                           여군병사제   \n",
       "14876                                            군모병제   \n",
       "14881                                   여성병사징병제도반대합니다   \n",
       "14885                                저는남자로태어나너무나억울합니다   \n",
       "14902                          '독도의날'을국가지정기념일로재정해주십시요   \n",
       "14905                            예비군들이최저시급을받을수있게해주십시오   \n",
       "14913                      군사병처우개선과군관련범죄에대한엄벌을촉구합니다!!   \n",
       "14915                                   남성징병제폐지를요구합니다   \n",
       "14916                                        복학시즌조기전역   \n",
       "14927                     군복무간영창으로인해군복무기간이연장되지않았으면합니다   \n",
       "14933                                           여군모병제   \n",
       "14936                                   징병병사제도폐지및모병전환   \n",
       "14939                         '병포상휴가제한휴가평등제'는철회되어야합니다   \n",
       "14947                       '독도의날'을국가지정기념일로제정해주시기바랍니다   \n",
       "14951                                         흥진호진실규명   \n",
       "14954                                 반미친중국가노선급선회해명요구   \n",
       "14965  이헌수전국정원기조실장및구속된간부들은한국형MK울트라사업및민간인불법사찰에대해답해야합니다   \n",
       "14968           자랑스러운저의선배님을비롯한6분을순직자가아닌전사자로바꿀수있게도와주세요   \n",
       "14976                                     청진호진실꼭밝혀주세요   \n",
       "\n",
       "                                                 content  num_agree  \\\n",
       "14799  모병제가 언급 될때마다 인터넷상에서 남성들이 반대하는데 모병에 의해 군대 갈수 있는...         10   \n",
       "14800  0) 서론 과거 삼국 시대부터 중국이란 국가는 대한민국에게 온갖 극악무도한 만행을 ...          0   \n",
       "14840  저희 남자들 사실상 끌려오는거니까 특별수당이랑 가산점 주십시오!!!!남녀 평등한 세...          2   \n",
       "14853  월급 140에 여군병사를 모집?? 그럼 남자는 3~40만원 받는데 이게 정부식 남녀...        961   \n",
       "14861  일제에 맞서 전쟁중에 순국하신 항일 투사 박차정의 묘를 정식으로 관리 요청 합니다....          1   \n",
       "14867  남자 사병 월급은 딸랑 10만원 올려주는것도 가산점 다 빼고 3~4년 걸쳐서 겨우겨...         29   \n",
       "14870                                                asd          0   \n",
       "14872  군대가는 남자는 호구인가요?? 남자 병사는 의무라 쥐꼬리만한 월급주고 개처럼 부리고...          6   \n",
       "14876  여성병사모집제를 다시 진행한다고 들었는데 조건을 보니 어이가 없네요. 월급은 남성병...          2   \n",
       "14881  현재 우리나라는 국방의 의무는 남녀 모두에게, 병역의 의무는 오직 \"남성\"에게만 적...         86   \n",
       "14885  몇 분 전, 저는 한 뉴스 기사를 봤습니다. 그 내용은 바로 43년만에 여군 병사를...         14   \n",
       "14902  안녕하세요, 저는 부산 대동중학교에 다니고 있는 한 평범하고 정치에 관심이있는 2학...         10   \n",
       "14905  현재 예비군 동원훈련에 소집된 사람에 대하여 지급되는 금액은 너무 적은 금액입니다....       1138   \n",
       "14913  우리나라 사병들 참 불쌍합니다... 가장 꽃다운 20대에 군대에 끌려와 열정페이만도...          3   \n",
       "14915  병역의무에 의해 현재 징병으로 군대에 오는 남성들도 모병으로 전환 될수 있는 방안이...          7   \n",
       "14916  현재 군복무는 개월수로 고정돼 있고 (육 21, 해 23, 공 24) 타이밍 잘못 ...          0   \n",
       "14927  군생활 간 영창을 다녀오면 그만큼 군생활이 추가되는데 전역 후 취업할 때 군복무 관...          3   \n",
       "14933  방금 기사를 읽고왔는데 남자는 강제징집+월급20+군가산점X+목줄채운 노예 여자는 월...          2   \n",
       "14936  징병에 의해 군에 갈 병사가 부족하면 현재 유지하고 있는 징병 폐지하고 모병으로 전...          8   \n",
       "14939  안녕하십니까. 저는 얼마 전 21개월 간의 군생활을 마치고 전역한 육군 예비역 병장...         11   \n",
       "14947  항상 대한민국을 위해 애써 주시는 분들께 감사드립니다. 저희는 부산에 살고 있는 중...         25   \n",
       "14951  흥진호가 소리없이 월북했다가 돌아왔는데 어떻게 믿습니까? 국가안보가 엉망 아닙니까?...          2   \n",
       "14954  반미 친중 노선선회를 국민의 동의도 없이 변경할 수 있습니까? 거기에 대한 해명을 ...          3   \n",
       "14965  미국의 MK울트라 프로젝트는 실제로 있었던 일이며 https://namu.wiki/...         12   \n",
       "14968  안녕하세요. 저는 현재 경안고등학교에 재학 중인 1학년 학생입니다. 제가 재학 중인...          3   \n",
       "14976                                  청진호 진실규명을 꼭밝혀주십시요          0   \n",
       "\n",
       "       new_status  \n",
       "14799           0  \n",
       "14800           0  \n",
       "14840           0  \n",
       "14853           0  \n",
       "14861           0  \n",
       "14867           0  \n",
       "14870           0  \n",
       "14872           0  \n",
       "14876           0  \n",
       "14881           0  \n",
       "14885           0  \n",
       "14902           0  \n",
       "14905           0  \n",
       "14913           0  \n",
       "14915           0  \n",
       "14916           0  \n",
       "14927           0  \n",
       "14933           0  \n",
       "14936           0  \n",
       "14939           0  \n",
       "14947           0  \n",
       "14951           0  \n",
       "14954           0  \n",
       "14965           0  \n",
       "14968           0  \n",
       "14976           0  "
      ]
     },
     "execution_count": 9,
     "metadata": {},
     "output_type": "execute_result"
    }
   ],
   "source": [
    "#토큰화 시작, 형태소 분석기 성능 비교자료\n",
    "#https://iostream.tistory.com/144\n",
    "#이 자료에 따라서 OKT분석기를 써보겠음\n",
    "\n",
    "#2017-11-01의 콘텐츠 중 하나로 사용해보기\n",
    "\n",
    "#1. 문장 정제 처리\n",
    "#한 콘텐트츠로만 전처리 테스트 해보기\n",
    "#url, 특수문자 제거, 불용어 처리\n",
    "\n",
    "df2.reset_index(drop = True, inplace = True) #인덱스 초기화\n",
    "mask = (df2.begin == '2017-11-01') & (df2.category == '외교/통일/국방')\n",
    "df2.loc[mask, :] #여기서 14965번째 인덱스의 내용을 사용할 것"
   ]
  },
  {
   "cell_type": "code",
   "execution_count": 58,
   "metadata": {},
   "outputs": [
    {
     "data": {
      "text/plain": [
       "'미국의 MK울트라 프로젝트는 실제로 있었던 일이며 https://namu.wiki/w/MK%20%EC%9A%B8%ED%8A%B8%EB%9D%BC (첫번째링크의 1.2 그것이 실제로 일어났습니다 참고) 미국 클린턴 행정부가 국민에게 사과하고 피해자에게 보상하였던 사건입니다. 한국에서도 어느덧 피해자가 늘어나더니 관련 인터넷 카페만 여러개입니다. 그런데 문제는 진짜 정신분열증(조현병)환자들과 뒤섞여 무엇이 진실인지 피해자들의 입으로는 알기가 어렵고 한국형 MK울트라 프로젝트 진행하는 알바들까지 까페에 침투하여 조현병으로 몰아가 사회적으로 목소리를 내기 어렵습니다. 참고로 저는 2010년 전화로 국정원에 문의하였더니 \"마인드 컨트롤은 없습니다\"라는 짤막한 답변만 들었고 그런데 올해는 있다없다 말도 없습니다. 인권 존엄성 등을 논하기 앞서 국정원의 묻지마 예산이 문제라고 생각합니다. 대북방첩활동은 뒷전으로 하고 쓸데없는 정치개입이나 하고 사회공작을 벌여 여러 자살사건을 양산하고 있는데 이런 한국형 MK울트라 프로젝트도 적폐중의 하나입니다. 모든 예산에 개입하는 국정원 기조실장은 반드시 존재를 알 것입니다. 이헌수 전 국정원 기조실장 및 구속된 국정원 전현직 간부들을 취조하여MK울트라의 실체와 시민불법사찰을 밝혀 주십시오. 그리고 설령 세상에 밝힐수 없더라도 MB,박근혜를 좀 비판했다고 무작위로 피해자가 된 사람들은 좀 구제해 주시고 차후 이런일이 발생하지 않도록 하여 주십시오. 피해보상까지는 바라지도 않습니다. 읽어주셔서 감사합니다.'"
      ]
     },
     "execution_count": 58,
     "metadata": {},
     "output_type": "execute_result"
    }
   ],
   "source": [
    "#실험 콘텐츠\n",
    "test_con = df2.iloc[14965,4]\n",
    "test_con"
   ]
  },
  {
   "cell_type": "code",
   "execution_count": 102,
   "metadata": {},
   "outputs": [
    {
     "name": "stdout",
     "output_type": "stream",
     "text": [
      "https://namu.wiki/w/MK%20%EC%9A%B8%ED%8A%B8%EB%9D%BC\n",
      "\n",
      " 미국의 MK울트라 프로젝트는 실제로 있었던 일이며  (첫번째링크의 1.2 그것이 실제로 일어났습니다 참고) 미국 클린턴 행정부가 국민에게 사과하고 피해자에게 보상하였던 사건입니다. 한국에서도 어느덧 피해자가 늘어나더니 관련 인터넷 카페만 여러개입니다. 그런데 문제는 진짜 정신분열증(조현병)환자들과 뒤섞여 무엇이 진실인지 피해자들의 입으로는 알기가 어렵고 한국형 MK울트라 프로젝트 진행하는 알바들까지 까페에 침투하여 조현병으로 몰아가 사회적으로 목소리를 내기 어렵습니다. 참고로 저는 2010년 전화로 국정원에 문의하였더니 \"마인드 컨트롤은 없습니다\"라는 짤막한 답변만 들었고 그런데 올해는 있다없다 말도 없습니다. 인권 존엄성 등을 논하기 앞서 국정원의 묻지마 예산이 문제라고 생각합니다. 대북방첩활동은 뒷전으로 하고 쓸데없는 정치개입이나 하고 사회공작을 벌여 여러 자살사건을 양산하고 있는데 이런 한국형 MK울트라 프로젝트도 적폐중의 하나입니다. 모든 예산에 개입하는 국정원 기조실장은 반드시 존재를 알 것입니다. 이헌수 전 국정원 기조실장 및 구속된 국정원 전현직 간부들을 취조하여MK울트라의 실체와 시민불법사찰을 밝혀 주십시오. 그리고 설령 세상에 밝힐수 없더라도 MB,박근혜를 좀 비판했다고 무작위로 피해자가 된 사람들은 좀 구제해 주시고 차후 이런일이 발생하지 않도록 하여 주십시오. 피해보상까지는 바라지도 않습니다. 읽어주셔서 감사합니다.\n"
     ]
    }
   ],
   "source": [
    "#정규표현식 사용\n",
    "#url 제거\n",
    "import re\n",
    "url_with_https = re.compile(r'(https?:\\/\\/){1,}([\\w.\\/%-]+){1,}')\n",
    "print(url_with_https.search(test_con)[0])\n",
    "    #https: 라고 달아져있어야 추출이 가능함...\n",
    "    #https:가 없는 경우에는 어떻게 추출?\n",
    "    \n",
    "mod_test_con = url_with_https.sub(repl = '', string = test_con)\n",
    "print('\\n',mod_test_con)"
   ]
  },
  {
   "cell_type": "code",
   "execution_count": 103,
   "metadata": {},
   "outputs": [
    {
     "name": "stdout",
     "output_type": "stream",
     "text": [
      "['(', ')', '(', ')', '\"', '\"']\n",
      "['1.2', '2010']\n",
      "\n",
      " 미국의 MK울트라 프로젝트는 실제로 있었던 일이며  첫번째링크의  그것이 실제로 일어났습니다 참고 미국 클린턴 행정부가 국민에게 사과하고 피해자에게 보상하였던 사건입니다. 한국에서도 어느덧 피해자가 늘어나더니 관련 인터넷 카페만 여러개입니다. 그런데 문제는 진짜 정신분열증조현병환자들과 뒤섞여 무엇이 진실인지 피해자들의 입으로는 알기가 어렵고 한국형 MK울트라 프로젝트 진행하는 알바들까지 까페에 침투하여 조현병으로 몰아가 사회적으로 목소리를 내기 어렵습니다. 참고로 저는 년 전화로 국정원에 문의하였더니 마인드 컨트롤은 없습니다라는 짤막한 답변만 들었고 그런데 올해는 있다없다 말도 없습니다. 인권 존엄성 등을 논하기 앞서 국정원의 묻지마 예산이 문제라고 생각합니다. 대북방첩활동은 뒷전으로 하고 쓸데없는 정치개입이나 하고 사회공작을 벌여 여러 자살사건을 양산하고 있는데 이런 한국형 MK울트라 프로젝트도 적폐중의 하나입니다. 모든 예산에 개입하는 국정원 기조실장은 반드시 존재를 알 것입니다. 이헌수 전 국정원 기조실장 및 구속된 국정원 전현직 간부들을 취조하여MK울트라의 실체와 시민불법사찰을 밝혀 주십시오. 그리고 설령 세상에 밝힐수 없더라도 MB,박근혜를 좀 비판했다고 무작위로 피해자가 된 사람들은 좀 구제해 주시고 차후 이런일이 발생하지 않도록 하여 주십시오. 피해보상까지는 바라지도 않습니다. 읽어주셔서 감사합니다.\n"
     ]
    }
   ],
   "source": [
    "#특수문자, 숫자제거\n",
    "useless_words = re.compile(r'[\\(\\)\\\"\\']+')\n",
    "print(useless_words.findall(mod_test_con))\n",
    "mod_test_con = useless_words.sub('', mod_test_con)\n",
    "\n",
    "rm_num = re.compile(r'(\\d+\\.?\\,?\\d+)+')\n",
    "print(rm_num.findall(mod_test_con))\n",
    "mod_test_con = rm_num.sub('', mod_test_con)\n",
    "print('\\n',mod_test_con)"
   ]
  },
  {
   "cell_type": "code",
   "execution_count": null,
   "metadata": {},
   "outputs": [],
   "source": [
    "#이메일 제거작업"
   ]
  },
  {
   "cell_type": "code",
   "execution_count": 11,
   "metadata": {},
   "outputs": [],
   "source": [
    "#전체 텍스트 전처리 시도\n",
    "#전처리하고자 하는 내용을 담은 사용자 정의 함수 실행\n",
    "url_with_https = re.compile(r'(https?:\\/\\/){1,}([\\w.\\/%-]+){1,}')\n",
    "rm_email = re.compile(r'([a-zA-Z0-9\\.\\_]+)@([\\w\\.]+){1,}')\n",
    "useless_words = re.compile(r'[\\(\\)\\\"\\'\\∎\\=\\-\\<\\>\\★\\○]+')\n",
    "rm_num = re.compile(r'(\\d+\\.?\\,?\\d+)+')\n",
    "\n",
    "def clean_kor_text(kor_text):\n",
    "    text = url_with_https.sub('',kor_text)\n",
    "    text = rm_email.sub('', text)\n",
    "    text = useless_words.sub('',text)\n",
    "    text = rm_num.sub('',text)\n",
    "    text = ' '.join(word for word in text.split() if word not in stop_kr_list)\n",
    "    return text\n",
    "\n",
    "df2['mod_content'] = df2['content'].apply(clean_kor_text)"
   ]
  },
  {
   "cell_type": "code",
   "execution_count": 126,
   "metadata": {},
   "outputs": [],
   "source": [
    "df2['mod_content'] = df2['content'].apply(clean_kor_text)\n",
    "    #for문 돌릴필요 없이 시리즈에서 바로 apply 가능"
   ]
  },
  {
   "cell_type": "code",
   "execution_count": 14,
   "metadata": {},
   "outputs": [
    {
     "data": {
      "text/html": [
       "<div>\n",
       "<style scoped>\n",
       "    .dataframe tbody tr th:only-of-type {\n",
       "        vertical-align: middle;\n",
       "    }\n",
       "\n",
       "    .dataframe tbody tr th {\n",
       "        vertical-align: top;\n",
       "    }\n",
       "\n",
       "    .dataframe thead th {\n",
       "        text-align: right;\n",
       "    }\n",
       "</style>\n",
       "<table border=\"1\" class=\"dataframe\">\n",
       "  <thead>\n",
       "    <tr style=\"text-align: right;\">\n",
       "      <th></th>\n",
       "      <th>begin</th>\n",
       "      <th>category</th>\n",
       "      <th>title</th>\n",
       "      <th>content</th>\n",
       "      <th>num_agree</th>\n",
       "      <th>new_status</th>\n",
       "      <th>mod_content</th>\n",
       "    </tr>\n",
       "  </thead>\n",
       "  <tbody>\n",
       "    <tr>\n",
       "      <th>0</th>\n",
       "      <td>2017-08-25</td>\n",
       "      <td>육아/교육</td>\n",
       "      <td>학교는 인력센터, 취업센터가 아닙니다. 정말 간곡히 부탁드립니다.</td>\n",
       "      <td>안녕하세요. 현재 사대, 교대 등 교원양성학교들의 예비교사들이 임용절벽에 매우 힘들...</td>\n",
       "      <td>88</td>\n",
       "      <td>0</td>\n",
       "      <td>안녕하세요. 현재 사대, 교대 교원양성학교들의 예비교사들이 임용절벽에 매우 힘들어 ...</td>\n",
       "    </tr>\n",
       "    <tr>\n",
       "      <th>1</th>\n",
       "      <td>2017-08-25</td>\n",
       "      <td>안전/환경</td>\n",
       "      <td>아파트 물탱크 청소용 NEP인증세제 사용 강제 요청건의서</td>\n",
       "      <td>서울시에서는 ’10년부터 정수지와 배수지 청소용 화학제품인 “세정제”에 대하여 첨부...</td>\n",
       "      <td>2</td>\n",
       "      <td>0</td>\n",
       "      <td>서울시에서는 ’년부터 정수지와 배수지 청소용 화학제품인 “세정제”에 첨부 자체 성분...</td>\n",
       "    </tr>\n",
       "    <tr>\n",
       "      <th>2</th>\n",
       "      <td>2017-08-25</td>\n",
       "      <td>기타</td>\n",
       "      <td>DDT농가에 대한 배려</td>\n",
       "      <td>얼마 전 살충제 계란 파동 등으로 씨끄러웠던 중 친환경업체(한살림 등)의 DDT파동...</td>\n",
       "      <td>1</td>\n",
       "      <td>0</td>\n",
       "      <td>전 살충제 계란 파동 등으로 씨끄러웠던 중 친환경업체한살림 등의 DDT파동으로 다시...</td>\n",
       "    </tr>\n",
       "    <tr>\n",
       "      <th>3</th>\n",
       "      <td>2017-08-25</td>\n",
       "      <td>반려동물</td>\n",
       "      <td>길고양이를 도와주세요</td>\n",
       "      <td>길고양이들 밥주고있는 사람입니다. 최근에 동네주민과 트러블이 생겨 싸움이 일어났습니...</td>\n",
       "      <td>5</td>\n",
       "      <td>0</td>\n",
       "      <td>길고양이들 밥주고있는 사람입니다. 최근에 동네주민과 트러블이 생겨 싸움이 일어났습니...</td>\n",
       "    </tr>\n",
       "    <tr>\n",
       "      <th>4</th>\n",
       "      <td>2017-08-25</td>\n",
       "      <td>인권/성평등</td>\n",
       "      <td>몰래카메라 유출 방송통신심의위원회 심의 배정</td>\n",
       "      <td>안녕하세요 지인분이 성관계 몰래카메라가 유출되어 방송통신 심의 위원회에 접수해서 처...</td>\n",
       "      <td>1</td>\n",
       "      <td>0</td>\n",
       "      <td>안녕하세요 지인분이 성관계 몰래카메라가 유출되어 방송통신 심의 위원회에 접수해서 처...</td>\n",
       "    </tr>\n",
       "  </tbody>\n",
       "</table>\n",
       "</div>"
      ],
      "text/plain": [
       "        begin category                                 title  \\\n",
       "0  2017-08-25    육아/교육  학교는 인력센터, 취업센터가 아닙니다. 정말 간곡히 부탁드립니다.   \n",
       "1  2017-08-25    안전/환경       아파트 물탱크 청소용 NEP인증세제 사용 강제 요청건의서   \n",
       "2  2017-08-25       기타                          DDT농가에 대한 배려   \n",
       "3  2017-08-25     반려동물                           길고양이를 도와주세요   \n",
       "4  2017-08-25   인권/성평등              몰래카메라 유출 방송통신심의위원회 심의 배정   \n",
       "\n",
       "                                             content  num_agree  new_status  \\\n",
       "0  안녕하세요. 현재 사대, 교대 등 교원양성학교들의 예비교사들이 임용절벽에 매우 힘들...         88           0   \n",
       "1  서울시에서는 ’10년부터 정수지와 배수지 청소용 화학제품인 “세정제”에 대하여 첨부...          2           0   \n",
       "2  얼마 전 살충제 계란 파동 등으로 씨끄러웠던 중 친환경업체(한살림 등)의 DDT파동...          1           0   \n",
       "3  길고양이들 밥주고있는 사람입니다. 최근에 동네주민과 트러블이 생겨 싸움이 일어났습니...          5           0   \n",
       "4  안녕하세요 지인분이 성관계 몰래카메라가 유출되어 방송통신 심의 위원회에 접수해서 처...          1           0   \n",
       "\n",
       "                                         mod_content  \n",
       "0  안녕하세요. 현재 사대, 교대 교원양성학교들의 예비교사들이 임용절벽에 매우 힘들어 ...  \n",
       "1  서울시에서는 ’년부터 정수지와 배수지 청소용 화학제품인 “세정제”에 첨부 자체 성분...  \n",
       "2  전 살충제 계란 파동 등으로 씨끄러웠던 중 친환경업체한살림 등의 DDT파동으로 다시...  \n",
       "3  길고양이들 밥주고있는 사람입니다. 최근에 동네주민과 트러블이 생겨 싸움이 일어났습니...  \n",
       "4  안녕하세요 지인분이 성관계 몰래카메라가 유출되어 방송통신 심의 위원회에 접수해서 처...  "
      ]
     },
     "execution_count": 14,
     "metadata": {},
     "output_type": "execute_result"
    }
   ],
   "source": [
    "df2.drop('mod_title', axis =1, inplace = True)\n",
    "df2.head()"
   ]
  },
  {
   "cell_type": "code",
   "execution_count": 15,
   "metadata": {},
   "outputs": [],
   "source": [
    "#토큰화 실시\n",
    "#konlpy의 Okt 형태소 분석기로\n",
    "from konlpy.tag import Okt\n",
    "\n",
    "okt = Okt(max_heap_size = 1024*6) \n",
    "test_list_cont = list(df2['mod_content'])\n",
    "\n",
    "def get_nouns(doc):\n",
    "    return okt.nouns(doc)\n",
    "\n",
    "    #08.04 새벽발견 이슈\n",
    "    #out_of_memory 문제 발생\n",
    "    #관련 이슈\n",
    "    #https://github.com/konlpy/konlpy/issues/93 "
   ]
  },
  {
   "cell_type": "code",
   "execution_count": 144,
   "metadata": {},
   "outputs": [
    {
     "name": "stdout",
     "output_type": "stream",
     "text": [
      "소요시간: 0.0\n"
     ]
    }
   ],
   "source": [
    "#시간측정\n",
    "import time\n",
    "start_time = time.time()\n",
    "quit_time = time.time()\n",
    "print('소요시간:', start_time - quit_time)"
   ]
  },
  {
   "cell_type": "code",
   "execution_count": 171,
   "metadata": {},
   "outputs": [
    {
     "name": "stdout",
     "output_type": "stream",
     "text": [
      "소요시간:  -165.52349829673767\n"
     ]
    }
   ],
   "source": [
    "#데이터가 너무 많아서 오래걸릴수 있으니 1만 단위로 해보기\n",
    "df3 = df2.copy()\n",
    "df3 = df3.iloc[:10000, 7]\n",
    "start_time = time.time()\n",
    "df3['cont_noun'] = df3.apply(get_nouns)\n",
    "print('소요시간: ', start_time - time.time())\n",
    "    #166초 = 2분 40초?"
   ]
  },
  {
   "cell_type": "code",
   "execution_count": 176,
   "metadata": {},
   "outputs": [
    {
     "data": {
      "text/plain": [
       "0            안녕하세요. 현재 사대, 교대 교원양성학교들의 예비교사들이 임용절벽에 매우 힘들어 ...\n",
       "1            서울시에서는 ’년부터 정수지와 배수지 청소용 화학제품인 “세정제”에 첨부 자체 성분...\n",
       "2            전 살충제 계란 파동 등으로 씨끄러웠던 중 친환경업체한살림 등의 DDT파동으로 다시...\n",
       "3            길고양이들 밥주고있는 사람입니다. 최근에 동네주민과 트러블이 생겨 싸움이 일어났습니...\n",
       "4            안녕하세요 지인분이 성관계 몰래카메라가 유출되어 방송통신 심의 위원회에 접수해서 처...\n",
       "                                   ...                        \n",
       "9996               거기 비리가 수두룩합니다~국민세금이 그쪽에서 샙니다. 조사한번 부탁 드립니다~\n",
       "9997         무궁화 국민 헌장 한국 저작권 위원회 제C호 사단법인 대한민국 무궁화선양회는 우리나...\n",
       "9998         회사퇴직후 일용직근로자로 공사현장에서 일하고 있습니다. 요즘같은 추석연휴에 공사현장...\n",
       "9999         생의 꼭 필요 한 종이 한 장. 아름다운 훌륭한 삶 인생이 세상을 살아가며 물이 흐...\n",
       "cont_noun    0       [현재, 사대, 교대, 교원양성, 학교, 예비교, 임용, 절벽, 매우...\n",
       "Name: mod_content, Length: 10001, dtype: object"
      ]
     },
     "execution_count": 176,
     "metadata": {},
     "output_type": "execute_result"
    }
   ],
   "source": [
    "df3"
   ]
  },
  {
   "cell_type": "code",
   "execution_count": 165,
   "metadata": {},
   "outputs": [
    {
     "name": "stdout",
     "output_type": "stream",
     "text": [
      "0 4999\n",
      "5000 9999\n"
     ]
    }
   ],
   "source": [
    "#프로세스\n",
    "#1만단위로 끊어서 작업을 자동화\n",
    "slice_test = [i for i in range(10000)]\n",
    "sl_1 = slice_test[:5000]\n",
    "sl_2 = slice_test[5000:]\n",
    "\n",
    "print(sl_1[0],sl_1[-1])\n",
    "print(sl_2[0], sl_2[-1])"
   ]
  },
  {
   "cell_type": "code",
   "execution_count": 188,
   "metadata": {},
   "outputs": [
    {
     "name": "stdout",
     "output_type": "stream",
     "text": [
      "0 10000\n",
      "10000 20000\n",
      "20000 30000\n",
      "30000 40000\n",
      "40000 50000\n",
      "50000 60000\n",
      "60000 70000\n",
      "70000 80000\n",
      "80000 90000\n",
      "90000 100000\n"
     ]
    }
   ],
   "source": [
    "slice_list = [i for i in range(0, 100000, 10000)]\n",
    "raw_list = [i for i in df2.index]\n",
    "\n",
    "#인덱싱 연습\n",
    "for i in range(len(slice_list)):\n",
    "    if i <= 8:\n",
    "        print(slice_list[i], slice_list[i+1])\n",
    "    else:\n",
    "        print(slice_list[i], 100000)"
   ]
  },
  {
   "cell_type": "code",
   "execution_count": 193,
   "metadata": {},
   "outputs": [],
   "source": [
    "from konlpy.tag import Okt\n",
    "\n",
    "okt = Okt(max_heap_size = 1024*6) \n",
    "\n",
    "def get_nouns(doc):\n",
    "    return okt.nouns(doc)"
   ]
  },
  {
   "cell_type": "code",
   "execution_count": 196,
   "metadata": {},
   "outputs": [
    {
     "data": {
      "text/plain": [
       "0    안녕하세요. 현재 사대, 교대 교원양성학교들의 예비교사들이 임용절벽에 매우 힘들어 ...\n",
       "1    서울시에서는 ’년부터 정수지와 배수지 청소용 화학제품인 “세정제”에 첨부 자체 성분...\n",
       "2    전 살충제 계란 파동 등으로 씨끄러웠던 중 친환경업체한살림 등의 DDT파동으로 다시...\n",
       "3    길고양이들 밥주고있는 사람입니다. 최근에 동네주민과 트러블이 생겨 싸움이 일어났습니...\n",
       "4    안녕하세요 지인분이 성관계 몰래카메라가 유출되어 방송통신 심의 위원회에 접수해서 처...\n",
       "Name: mod_content, dtype: object"
      ]
     },
     "execution_count": 196,
     "metadata": {},
     "output_type": "execute_result"
    }
   ],
   "source": [
    "df3 = df2.copy()\n",
    "df3 = df3.iloc[:100000, :]\n",
    "df3.iloc[:, 7].head()"
   ]
  },
  {
   "cell_type": "code",
   "execution_count": 18,
   "metadata": {},
   "outputs": [
    {
     "name": "stdout",
     "output_type": "stream",
     "text": [
      "소요시간:  1950.1041786670685\n"
     ]
    }
   ],
   "source": [
    "#100000만개만 가지고 일단 수행해보기\n",
    "#시리즈에서는 apply가 아닌 map을 사용해야한다고 함\n",
    "#http://www.leejungmin.org/post/2018/04/21/pandas_apply_and_map/\n",
    "import time\n",
    "slice_list_1= [i for i in range(0, 100000, 10000)]\n",
    "df3 = df2.copy()\n",
    "df3 = df3.iloc[:100000, :]\n",
    "start_time = time.time()\n",
    "\n",
    "for i in range(len(slice_list_1)):\n",
    "    if i == 0:\n",
    "        df3_f = df3.iloc[slice_list_1[i]:slice_list_1[i+1], 6]\n",
    "        df4 = pd.Series(df3_f.map(get_nouns))\n",
    "    elif i <= 8:\n",
    "        df3_f = df3.iloc[slice_list_1[i]:slice_list_1[i+1], 6]\n",
    "        df4.append(df3_f.map(get_nouns), ignore_index=True)\n",
    "    else:\n",
    "        df3_f = df3.iloc[slice_list_1[i]:-1, 6]\n",
    "        df4.append(df3_f.map(get_nouns), ignore_index=True)\n",
    "        \n",
    "print('소요시간: ', time.time() - start_time)\n",
    "    #약 23분 소요됨\n",
    "    #08.040 32분 소요됨"
   ]
  },
  {
   "cell_type": "code",
   "execution_count": 29,
   "metadata": {},
   "outputs": [
    {
     "data": {
      "text/plain": [
       "(10000,)"
      ]
     },
     "execution_count": 29,
     "metadata": {},
     "output_type": "execute_result"
    }
   ],
   "source": [
    "df4.shape\n",
    "    #왜 1만개만 생성?\n",
    "    #시리즈 append를 잘못 쓴 것으로 추정"
   ]
  },
  {
   "cell_type": "code",
   "execution_count": null,
   "metadata": {},
   "outputs": [],
   "source": [
    "from konlpy.tag import Okt\n",
    "\n",
    "okt = Okt(max_heap_size = 1024*6) \n",
    "\n",
    "def get_nouns(doc):\n",
    "    return okt.nouns(doc)"
   ]
  },
  {
   "cell_type": "code",
   "execution_count": 45,
   "metadata": {},
   "outputs": [
    {
     "ename": "KeyboardInterrupt",
     "evalue": "",
     "output_type": "error",
     "traceback": [
      "\u001b[1;31m---------------------------------------------------------------------------\u001b[0m",
      "\u001b[1;31mKeyboardInterrupt\u001b[0m                         Traceback (most recent call last)",
      "\u001b[1;32m<ipython-input-45-87e4b0825c5b>\u001b[0m in \u001b[0;36m<module>\u001b[1;34m\u001b[0m\n\u001b[0;32m     13\u001b[0m     \u001b[1;32melse\u001b[0m\u001b[1;33m:\u001b[0m\u001b[1;33m\u001b[0m\u001b[1;33m\u001b[0m\u001b[0m\n\u001b[0;32m     14\u001b[0m         \u001b[0mdf3_f\u001b[0m \u001b[1;33m=\u001b[0m \u001b[0mdf3\u001b[0m\u001b[1;33m.\u001b[0m\u001b[0miloc\u001b[0m\u001b[1;33m[\u001b[0m\u001b[0mslice_list_1\u001b[0m\u001b[1;33m[\u001b[0m\u001b[0mi\u001b[0m\u001b[1;33m]\u001b[0m\u001b[1;33m:\u001b[0m\u001b[1;33m-\u001b[0m\u001b[1;36m1\u001b[0m\u001b[1;33m,\u001b[0m \u001b[1;36m6\u001b[0m\u001b[1;33m]\u001b[0m\u001b[1;33m\u001b[0m\u001b[1;33m\u001b[0m\u001b[0m\n\u001b[1;32m---> 15\u001b[1;33m         \u001b[0mtemp\u001b[0m \u001b[1;33m=\u001b[0m \u001b[0mdf3_f\u001b[0m\u001b[1;33m.\u001b[0m\u001b[0mmap\u001b[0m\u001b[1;33m(\u001b[0m\u001b[0mget_nouns\u001b[0m\u001b[1;33m)\u001b[0m\u001b[1;33m\u001b[0m\u001b[1;33m\u001b[0m\u001b[0m\n\u001b[0m\u001b[0;32m     16\u001b[0m         \u001b[0mresult_cont\u001b[0m\u001b[1;33m.\u001b[0m\u001b[0mappend\u001b[0m\u001b[1;33m(\u001b[0m\u001b[0mtemp\u001b[0m\u001b[1;33m,\u001b[0m \u001b[0mignore_index\u001b[0m \u001b[1;33m=\u001b[0m \u001b[1;32mTrue\u001b[0m\u001b[1;33m)\u001b[0m\u001b[1;33m\u001b[0m\u001b[1;33m\u001b[0m\u001b[0m\n\u001b[0;32m     17\u001b[0m \u001b[1;33m\u001b[0m\u001b[0m\n",
      "\u001b[1;32mC:\\ProgramData\\Anaconda3\\lib\\site-packages\\pandas\\core\\series.py\u001b[0m in \u001b[0;36mmap\u001b[1;34m(self, arg, na_action)\u001b[0m\n\u001b[0;32m   3628\u001b[0m         \u001b[0mdtype\u001b[0m\u001b[1;33m:\u001b[0m \u001b[0mobject\u001b[0m\u001b[1;33m\u001b[0m\u001b[1;33m\u001b[0m\u001b[0m\n\u001b[0;32m   3629\u001b[0m         \"\"\"\n\u001b[1;32m-> 3630\u001b[1;33m         \u001b[0mnew_values\u001b[0m \u001b[1;33m=\u001b[0m \u001b[0msuper\u001b[0m\u001b[1;33m(\u001b[0m\u001b[1;33m)\u001b[0m\u001b[1;33m.\u001b[0m\u001b[0m_map_values\u001b[0m\u001b[1;33m(\u001b[0m\u001b[0marg\u001b[0m\u001b[1;33m,\u001b[0m \u001b[0mna_action\u001b[0m\u001b[1;33m=\u001b[0m\u001b[0mna_action\u001b[0m\u001b[1;33m)\u001b[0m\u001b[1;33m\u001b[0m\u001b[1;33m\u001b[0m\u001b[0m\n\u001b[0m\u001b[0;32m   3631\u001b[0m         \u001b[1;32mreturn\u001b[0m \u001b[0mself\u001b[0m\u001b[1;33m.\u001b[0m\u001b[0m_constructor\u001b[0m\u001b[1;33m(\u001b[0m\u001b[0mnew_values\u001b[0m\u001b[1;33m,\u001b[0m \u001b[0mindex\u001b[0m\u001b[1;33m=\u001b[0m\u001b[0mself\u001b[0m\u001b[1;33m.\u001b[0m\u001b[0mindex\u001b[0m\u001b[1;33m)\u001b[0m\u001b[1;33m.\u001b[0m\u001b[0m__finalize__\u001b[0m\u001b[1;33m(\u001b[0m\u001b[0mself\u001b[0m\u001b[1;33m)\u001b[0m\u001b[1;33m\u001b[0m\u001b[1;33m\u001b[0m\u001b[0m\n\u001b[0;32m   3632\u001b[0m \u001b[1;33m\u001b[0m\u001b[0m\n",
      "\u001b[1;32mC:\\ProgramData\\Anaconda3\\lib\\site-packages\\pandas\\core\\base.py\u001b[0m in \u001b[0;36m_map_values\u001b[1;34m(self, mapper, na_action)\u001b[0m\n\u001b[0;32m   1143\u001b[0m \u001b[1;33m\u001b[0m\u001b[0m\n\u001b[0;32m   1144\u001b[0m         \u001b[1;31m# mapper is a function\u001b[0m\u001b[1;33m\u001b[0m\u001b[1;33m\u001b[0m\u001b[1;33m\u001b[0m\u001b[0m\n\u001b[1;32m-> 1145\u001b[1;33m         \u001b[0mnew_values\u001b[0m \u001b[1;33m=\u001b[0m \u001b[0mmap_f\u001b[0m\u001b[1;33m(\u001b[0m\u001b[0mvalues\u001b[0m\u001b[1;33m,\u001b[0m \u001b[0mmapper\u001b[0m\u001b[1;33m)\u001b[0m\u001b[1;33m\u001b[0m\u001b[1;33m\u001b[0m\u001b[0m\n\u001b[0m\u001b[0;32m   1146\u001b[0m \u001b[1;33m\u001b[0m\u001b[0m\n\u001b[0;32m   1147\u001b[0m         \u001b[1;32mreturn\u001b[0m \u001b[0mnew_values\u001b[0m\u001b[1;33m\u001b[0m\u001b[1;33m\u001b[0m\u001b[0m\n",
      "\u001b[1;32mpandas\\_libs\\lib.pyx\u001b[0m in \u001b[0;36mpandas._libs.lib.map_infer\u001b[1;34m()\u001b[0m\n",
      "\u001b[1;32m<ipython-input-15-86e5ffcf6aa9>\u001b[0m in \u001b[0;36mget_nouns\u001b[1;34m(doc)\u001b[0m\n\u001b[0;32m      7\u001b[0m \u001b[1;33m\u001b[0m\u001b[0m\n\u001b[0;32m      8\u001b[0m \u001b[1;32mdef\u001b[0m \u001b[0mget_nouns\u001b[0m\u001b[1;33m(\u001b[0m\u001b[0mdoc\u001b[0m\u001b[1;33m)\u001b[0m\u001b[1;33m:\u001b[0m\u001b[1;33m\u001b[0m\u001b[1;33m\u001b[0m\u001b[0m\n\u001b[1;32m----> 9\u001b[1;33m     \u001b[1;32mreturn\u001b[0m \u001b[0mokt\u001b[0m\u001b[1;33m.\u001b[0m\u001b[0mnouns\u001b[0m\u001b[1;33m(\u001b[0m\u001b[0mdoc\u001b[0m\u001b[1;33m)\u001b[0m\u001b[1;33m\u001b[0m\u001b[1;33m\u001b[0m\u001b[0m\n\u001b[0m\u001b[0;32m     10\u001b[0m \u001b[1;33m\u001b[0m\u001b[0m\n\u001b[0;32m     11\u001b[0m     \u001b[1;31m#08.04 새벽발견 이슈\u001b[0m\u001b[1;33m\u001b[0m\u001b[1;33m\u001b[0m\u001b[1;33m\u001b[0m\u001b[0m\n",
      "\u001b[1;32mC:\\ProgramData\\Anaconda3\\lib\\site-packages\\konlpy\\tag\\_okt.py\u001b[0m in \u001b[0;36mnouns\u001b[1;34m(self, phrase)\u001b[0m\n\u001b[0;32m     70\u001b[0m         \u001b[1;34m\"\"\"Noun extractor.\"\"\"\u001b[0m\u001b[1;33m\u001b[0m\u001b[1;33m\u001b[0m\u001b[0m\n\u001b[0;32m     71\u001b[0m \u001b[1;33m\u001b[0m\u001b[0m\n\u001b[1;32m---> 72\u001b[1;33m         \u001b[0mtagged\u001b[0m \u001b[1;33m=\u001b[0m \u001b[0mself\u001b[0m\u001b[1;33m.\u001b[0m\u001b[0mpos\u001b[0m\u001b[1;33m(\u001b[0m\u001b[0mphrase\u001b[0m\u001b[1;33m)\u001b[0m\u001b[1;33m\u001b[0m\u001b[1;33m\u001b[0m\u001b[0m\n\u001b[0m\u001b[0;32m     73\u001b[0m         \u001b[1;32mreturn\u001b[0m \u001b[1;33m[\u001b[0m\u001b[0ms\u001b[0m \u001b[1;32mfor\u001b[0m \u001b[0ms\u001b[0m\u001b[1;33m,\u001b[0m \u001b[0mt\u001b[0m \u001b[1;32min\u001b[0m \u001b[0mtagged\u001b[0m \u001b[1;32mif\u001b[0m \u001b[0mt\u001b[0m \u001b[1;33m==\u001b[0m \u001b[1;34m'Noun'\u001b[0m\u001b[1;33m]\u001b[0m\u001b[1;33m\u001b[0m\u001b[1;33m\u001b[0m\u001b[0m\n\u001b[0;32m     74\u001b[0m \u001b[1;33m\u001b[0m\u001b[0m\n",
      "\u001b[1;32mC:\\ProgramData\\Anaconda3\\lib\\site-packages\\konlpy\\tag\\_okt.py\u001b[0m in \u001b[0;36mpos\u001b[1;34m(self, phrase, norm, stem, join)\u001b[0m\n\u001b[0;32m     61\u001b[0m                     \u001b[0mphrase\u001b[0m\u001b[1;33m,\u001b[0m\u001b[1;33m\u001b[0m\u001b[1;33m\u001b[0m\u001b[0m\n\u001b[0;32m     62\u001b[0m                     \u001b[0mjpype\u001b[0m\u001b[1;33m.\u001b[0m\u001b[0mjava\u001b[0m\u001b[1;33m.\u001b[0m\u001b[0mlang\u001b[0m\u001b[1;33m.\u001b[0m\u001b[0mBoolean\u001b[0m\u001b[1;33m(\u001b[0m\u001b[0mnorm\u001b[0m\u001b[1;33m)\u001b[0m\u001b[1;33m,\u001b[0m\u001b[1;33m\u001b[0m\u001b[1;33m\u001b[0m\u001b[0m\n\u001b[1;32m---> 63\u001b[1;33m                     jpype.java.lang.Boolean(stem)).toArray()\n\u001b[0m\u001b[0;32m     64\u001b[0m         \u001b[1;32mif\u001b[0m \u001b[0mjoin\u001b[0m\u001b[1;33m:\u001b[0m\u001b[1;33m\u001b[0m\u001b[1;33m\u001b[0m\u001b[0m\n\u001b[0;32m     65\u001b[0m             \u001b[1;32mreturn\u001b[0m \u001b[1;33m[\u001b[0m\u001b[0mt\u001b[0m \u001b[1;32mfor\u001b[0m \u001b[0mt\u001b[0m \u001b[1;32min\u001b[0m \u001b[0mtokens\u001b[0m\u001b[1;33m]\u001b[0m\u001b[1;33m\u001b[0m\u001b[1;33m\u001b[0m\u001b[0m\n",
      "\u001b[1;31mKeyboardInterrupt\u001b[0m: "
     ]
    }
   ],
   "source": [
    "#3만개를 1만개씩 돌면서 해보기\n",
    "slice_list_1= [i for i in range(0, 40000, 10000)]\n",
    "df3 = df2.copy()\n",
    "df3 = df3.iloc[:40000, :]\n",
    "start_time = time.time()\n",
    "\n",
    "result_cont = pd.Series(dtype = 'object')\n",
    "for i in range(len(slice_list_1)):\n",
    "    if i<= 1:\n",
    "        df3_f = df3.iloc[slice_list_1[i]:slice_list_1[i+1], 6]\n",
    "        temp = df3_f.map(get_nouns) \n",
    "        result_cont.append(temp, ignore_index = True)\n",
    "    else:\n",
    "        df3_f = df3.iloc[slice_list_1[i]:-1, 6]\n",
    "        temp = df3_f.map(get_nouns) \n",
    "        result_cont.append(temp, ignore_index = True)\n",
    "\n",
    "print('소요시간: ', time.time() - start_time)"
   ]
  },
  {
   "cell_type": "code",
   "execution_count": 44,
   "metadata": {},
   "outputs": [
    {
     "data": {
      "text/plain": [
       "0    가\n",
       "1    나\n",
       "2    다\n",
       "dtype: object"
      ]
     },
     "execution_count": 44,
     "metadata": {},
     "output_type": "execute_result"
    }
   ],
   "source": [
    "test_s = pd.Series(dtype = 'object')\n",
    "test_l = pd.Series(['가','나','다'])\n",
    "test_s.append(test_l)"
   ]
  },
  {
   "cell_type": "code",
   "execution_count": null,
   "metadata": {},
   "outputs": [],
   "source": []
  }
 ],
 "metadata": {
  "kernelspec": {
   "display_name": "Python 3",
   "language": "python",
   "name": "python3"
  },
  "language_info": {
   "codemirror_mode": {
    "name": "ipython",
    "version": 3
   },
   "file_extension": ".py",
   "mimetype": "text/x-python",
   "name": "python",
   "nbconvert_exporter": "python",
   "pygments_lexer": "ipython3",
   "version": "3.7.7"
  }
 },
 "nbformat": 4,
 "nbformat_minor": 4
}
